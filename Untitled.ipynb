{
 "cells": [
  {
   "cell_type": "code",
   "execution_count": 7,
   "id": "3ec94ec2-5c78-4283-bfe4-688744ab25a2",
   "metadata": {},
   "outputs": [],
   "source": [
    "from __future__ import unicode_literals, print_function\n",
    "import pickle\n",
    "import plac\n",
    "import random\n",
    "from pathlib import Path\n",
    "from sklearn.model_selection import train_test_split\n",
    "\n",
    "import pkg_resources\n",
    "pkg_resources.require(\"spacy==2.3.5\")\n",
    "import spacy\n",
    "from spacy.util import minibatch, compounding\n",
    "\n",
    "n_iter = 25\n",
    "LABEL = [\"vendor\", \"totalAmount\", \"totalLabel\", \"address\", \"date\"]\n",
    "\n",
    "\n",
    "with open ('Data/spacy.txt', 'rb') as fp:\n",
    "    DATA = pickle.load(fp)\n",
    "    TRAIN_DATA, TEST_DATA = train_test_split(DATA, test_size=0.1, random_state=1)\n",
    "    "
   ]
  },
  {
   "cell_type": "code",
   "execution_count": 141,
   "id": "cfe675ed-eb68-4006-9d2e-76a1f359dd96",
   "metadata": {
    "scrolled": true,
    "tags": []
   },
   "outputs": [
    {
     "name": "stderr",
     "output_type": "stream",
     "text": [
      "/Users/nashex/opt/anaconda3/lib/python3.8/site-packages/spacy/language.py:482: UserWarning: [W030] Some entities could not be aligned in the text \"0,00d0815578182,\"RESTORAN WAN SHENG 002043319-W NO...\" with entities \"[(396, 400, 'totalAmount'), (389, 394, 'totalLabel...\". Use `spacy.gold.biluo_tags_from_offsets(nlp.make_doc(text), entities)` to check the alignment. Misaligned entities (with BILUO tag '-') will be ignored during training.\n",
      "  gold = GoldParse(doc, **gold)\n",
      "/Users/nashex/opt/anaconda3/lib/python3.8/site-packages/spacy/language.py:482: UserWarning: [W030] Some entities could not be aligned in the text \"0,00d0627357411,\"MR. D.I.Y. (M) SDN BHD (CO. REG :...\" with entities \"[(461, 469, 'date'), (392, 397, 'totalAmount'), (3...\". Use `spacy.gold.biluo_tags_from_offsets(nlp.make_doc(text), entities)` to check the alignment. Misaligned entities (with BILUO tag '-') will be ignored during training.\n",
      "  gold = GoldParse(doc, **gold)\n",
      "/Users/nashex/opt/anaconda3/lib/python3.8/site-packages/spacy/language.py:482: UserWarning: [W030] Some entities could not be aligned in the text \"0,00d0472780579,\"RESTORAN WAN SHENG 002043319-W NO...\" with entities \"[(473, 478, 'totalLabel'), (468, 473, 'totalAmount...\". Use `spacy.gold.biluo_tags_from_offsets(nlp.make_doc(text), entities)` to check the alignment. Misaligned entities (with BILUO tag '-') will be ignored during training.\n",
      "  gold = GoldParse(doc, **gold)\n",
      "/Users/nashex/opt/anaconda3/lib/python3.8/site-packages/spacy/language.py:482: UserWarning: [W030] Some entities could not be aligned in the text \"0,00d0191077139,\"RESTORAN WAN SHENG 002043319-W NO...\" with entities \"[(467, 472, 'totalLabel'), (462, 466, 'totalAmount...\". Use `spacy.gold.biluo_tags_from_offsets(nlp.make_doc(text), entities)` to check the alignment. Misaligned entities (with BILUO tag '-') will be ignored during training.\n",
      "  gold = GoldParse(doc, **gold)\n",
      "/Users/nashex/opt/anaconda3/lib/python3.8/site-packages/spacy/language.py:482: UserWarning: [W030] Some entities could not be aligned in the text \"0,00d0271842165,\"SYARIKAT PERNIAGAAN GIN KEE (8110...\" with entities \"[(458, 488, 'totalLabel'), (451, 457, 'totalAmount...\". Use `spacy.gold.biluo_tags_from_offsets(nlp.make_doc(text), entities)` to check the alignment. Misaligned entities (with BILUO tag '-') will be ignored during training.\n",
      "  gold = GoldParse(doc, **gold)\n",
      "/Users/nashex/opt/anaconda3/lib/python3.8/site-packages/spacy/language.py:482: UserWarning: [W030] Some entities could not be aligned in the text \"0,00d0201833623,IKANO HANDEL SDN BHD (1074617K) IK...\" with entities \"[(418, 423, 'totalAmount'), (392, 417, 'totalLabel...\". Use `spacy.gold.biluo_tags_from_offsets(nlp.make_doc(text), entities)` to check the alignment. Misaligned entities (with BILUO tag '-') will be ignored during training.\n",
      "  gold = GoldParse(doc, **gold)\n",
      "/Users/nashex/opt/anaconda3/lib/python3.8/site-packages/spacy/language.py:482: UserWarning: [W030] Some entities could not be aligned in the text \"0,00d0174270341,\"**** PROMO **** 1994 GERBANG ALAF...\" with entities \"[(615, 639, 'totalLabel'), (609, 614, 'totalAmount...\". Use `spacy.gold.biluo_tags_from_offsets(nlp.make_doc(text), entities)` to check the alignment. Misaligned entities (with BILUO tag '-') will be ignored during training.\n",
      "  gold = GoldParse(doc, **gold)\n",
      "/Users/nashex/opt/anaconda3/lib/python3.8/site-packages/spacy/language.py:482: UserWarning: [W030] Some entities could not be aligned in the text \"0,00d0992959314,\"118 GERBANG ALAF RESTAURANTS SDN ...\" with entities \"[(517, 523, 'totalAmount'), (504, 517, 'totalLabel...\". Use `spacy.gold.biluo_tags_from_offsets(nlp.make_doc(text), entities)` to check the alignment. Misaligned entities (with BILUO tag '-') will be ignored during training.\n",
      "  gold = GoldParse(doc, **gold)\n",
      "/Users/nashex/opt/anaconda3/lib/python3.8/site-packages/spacy/language.py:482: UserWarning: [W030] Some entities could not be aligned in the text \"0,00d0901837324,\"TAN WOON YANN INDAH GIFT & HOME D...\" with entities \"[(154, 164, 'date'), (54, 115, 'address'), (31, 53...\". Use `spacy.gold.biluo_tags_from_offsets(nlp.make_doc(text), entities)` to check the alignment. Misaligned entities (with BILUO tag '-') will be ignored during training.\n",
      "  gold = GoldParse(doc, **gold)\n",
      "/Users/nashex/opt/anaconda3/lib/python3.8/site-packages/spacy/language.py:482: UserWarning: [W030] Some entities could not be aligned in the text \"0,00d0483826961,\"3180303 LIAN HING STATIONERY SDN ...\" with entities \"[(417, 434, 'totalLabel'), (410, 416, 'totalAmount...\". Use `spacy.gold.biluo_tags_from_offsets(nlp.make_doc(text), entities)` to check the alignment. Misaligned entities (with BILUO tag '-') will be ignored during training.\n",
      "  gold = GoldParse(doc, **gold)\n"
     ]
    },
    {
     "name": "stdout",
     "output_type": "stream",
     "text": [
      "0 Losses {'ner': 13928.182524856584}\n",
      "1 Losses {'ner': 14170.034852487152}\n",
      "2 Losses {'ner': 12739.921361067922}\n",
      "3 Losses {'ner': 6055.01932482819}\n",
      "4 Losses {'ner': 4044.0835235322998}\n",
      "5 Losses {'ner': 3090.8648914630085}\n",
      "6 Losses {'ner': 2115.8533009176113}\n",
      "7 Losses {'ner': 1926.0398899470174}\n",
      "8 Losses {'ner': 1542.683158477459}\n",
      "9 Losses {'ner': 1229.519820597106}\n",
      "10 Losses {'ner': 2826.686991161744}\n",
      "11 Losses {'ner': 960.9139542380399}\n",
      "12 Losses {'ner': 993.4795045807831}\n",
      "13 Losses {'ner': 881.9187035949211}\n",
      "14 Losses {'ner': 853.3477655677277}\n",
      "15 Losses {'ner': 953.5209400673589}\n",
      "16 Losses {'ner': 745.6995881709819}\n",
      "17 Losses {'ner': 656.0514014401814}\n",
      "18 Losses {'ner': 924.9446314345811}\n",
      "19 Losses {'ner': 593.3666592060921}\n",
      "20 Losses {'ner': 615.8694731012471}\n",
      "21 Losses {'ner': 576.6871859829209}\n",
      "22 Losses {'ner': 681.7386786059678}\n",
      "23 Losses {'ner': 515.9584085163076}\n",
      "24 Losses {'ner': 566.5006623531018}\n"
     ]
    }
   ],
   "source": [
    "nlp = spacy.blank('en')\n",
    "ner = nlp.create_pipe('ner')\n",
    "nlp.add_pipe(ner)\n",
    "\n",
    "for i in LABEL:\n",
    "    ner.add_label(i)\n",
    "    \n",
    "\n",
    "optimizer = nlp.begin_training()\n",
    "\n",
    "for itn in range(n_iter):\n",
    "    random.shuffle(TRAIN_DATA)\n",
    "    losses = {}\n",
    "    batches = minibatch(TRAIN_DATA, size=compounding(4., 32., 1.001))\n",
    "    for batch in batches:\n",
    "        texts, annotations = zip(*batch)\n",
    "        nlp.update(texts, annotations, sgd=optimizer, drop=0.1,\n",
    "                   losses=losses)\n",
    "    print(itn, 'Losses', losses)"
   ]
  },
  {
   "cell_type": "code",
   "execution_count": 150,
   "id": "dcec6140-64f7-4770-a0c2-ced3f3d5ad28",
   "metadata": {},
   "outputs": [
    {
     "name": "stdout",
     "output_type": "stream",
     "text": [
      "Saved model to models\n"
     ]
    }
   ],
   "source": [
    "# Save the model\n",
    "output_dir = Path(\"./models\")\n",
    "if not output_dir.exists():\n",
    "    output_dir.mkdir()\n",
    "nlp.meta['name'] = \"model\"\n",
    "nlp.to_disk(output_dir)\n",
    "print(\"Saved model to\", output_dir)\n"
   ]
  },
  {
   "cell_type": "code",
   "execution_count": 4,
   "id": "cda139d3-ad97-4aa3-adc0-88f3082dbec0",
   "metadata": {},
   "outputs": [
    {
     "name": "stdout",
     "output_type": "stream",
     "text": [
      "Loading from models\n"
     ]
    }
   ],
   "source": [
    "# Load the mode\n",
    "output_dir = Path(\"./models\")\n",
    "print(\"Loading from\", output_dir)\n",
    "nlp = spacy.load(output_dir)"
   ]
  },
  {
   "cell_type": "code",
   "execution_count": 5,
   "id": "7b61b840-d287-4b12-8157-c971aa13bd83",
   "metadata": {},
   "outputs": [
    {
     "name": "stdout",
     "output_type": "stream",
     "text": [
      "vendor : FRESH MART SDN BHD\n",
      "address : NO, 89&91, JALAN UTAMA, TAMAN MUTIA RINI, 81300 SKUDAI, JOHOR\n",
      "date : 12/05/18\n",
      "date : 12/05/18\n",
      "totalAmount : 12.00\n",
      "totalLabel : TOTAL\n",
      "date : 18/04/2017\n"
     ]
    }
   ],
   "source": [
    "test_text = \"\"\"\n",
    "0,0,\"DE LUXE CIRCLE FRESH MART SDN BHD (MUTIARA RINI 16) GST NO:001507647488 CO REG NO:797887-W NO, 89&91, JALAN UTAMA, TAMAN MUTIA RINI, 81300 SKUDAI, JOHOR. TEL:016-7780546 MT161201805120055 12/05/18 12:12:57 PM CHU PECK CASHIER: 12/05/18 12:13:17 PM HEAVEN & EARTH AYATAKA GREEN TEA 1.5L 8888002119454 5.00*1 5.00 S KONNYAKU 10G 7.00 S 8888338001119 3.50*2 12.00 2 TOTAL WITH GST @ 6% ITEM: 3 ROUNDING 0.00 QTY: TOTAL SAVING: 0.00 12.00 TOTAL TENDER CASH 50.00 38.00 CHANGE TAX AMOUNT GOODS GST ANALYSIS S = 6% 11.32 0.68 Z = 0% 0.00 0.00 POINTS EARNED: 11 MEMBER 0000036581 MEMBER: WONG SHOO YUEN *THANK YOU. SEE YOU AGAIN !! *CUSTOMER CARE LINE : 012-7092889 *CUSTOMERSERVICE@DELUXEGROUPS.COM\"\n",
    "0,00d0608566104,\"SANYU STATIONERY SHOP NO. 31G&33G, JALAN SETIA INDAH X ,U13/X 40170 SETIA ALAM MOBILE /WHATSAPPS : +6012-918 7937 TEL: +603-3362 4137 GST ID NO: 001531760640 TAX INVOICE OWNED BY : SANYU SUPPLY SDN BHD (1135772-K) CASH SALES COUNTER 1. 2012-0029 RESTAURANT ORDER CHIT NCR 3.5\"\"X6\"\" 3 X 2.9000 8.70 SR TOTAL SALES INCLUSIVE GST @6% 8.70 DISCOUNT 0.00 TOTAL 8.70 ROUND ADJ 0.00 FINAL TOTAL 8.70 CASH 10.00 CHANGE 1.30 AMOUNT(RM) GST SUMMARY TAX(RM) SR @ 6% 8.21 0.49 INV NO: CS-SA-0079030 DATE: 18/04/2017 GOODS SOLD ARE NOT RETURNABLE & REFUNDABLE THANK YOU FOR YOUR PATRONAGE PLEASE COME AGAIN. TERIMA KASIH SILA DATANG LAGI ** PLEASE KEEP THIS RECEIPT FOR PROVE OF PURCHASE DATE FOR I.T PRODUCT WARRANTY PURPOSE ** FOLLOW US IN FACEBOOK : SANYU.STATIONERY\"\n",
    "\"\"\"\n",
    "doc = nlp(test_text)\n",
    "labels = {}\n",
    "for ent in doc.ents:\n",
    "    print(ent.label_, \":\", ent.text)"
   ]
  },
  {
   "cell_type": "code",
   "execution_count": 8,
   "id": "57b4c27e-b2bd-49d3-8200-574a0c2d3ada",
   "metadata": {},
   "outputs": [
    {
     "name": "stdout",
     "output_type": "stream",
     "text": [
      "24 / 25\n"
     ]
    }
   ],
   "source": [
    "import pandas as pd\n",
    "import numpy as np\n",
    "\n",
    "s = 0\n",
    "s2 = 0\n",
    "n1 = len(TEST_DATA)\n",
    "for content, entities in TEST_DATA:\n",
    "    entities = entities['entities']\n",
    "    doc = nlp(content)\n",
    "    labels = {}\n",
    "    for label in LABEL:\n",
    "        labels.setdefault(label, [])\n",
    "    for ent in doc.ents:\n",
    "        labels[ent.label_].append(ent.text)\n",
    "    #print(content, \"\\nPredicted:\", labels, '\\nActual:', [content[int(entry[0]):int(entry[1])] for entry in entities])\n",
    "    \n",
    "    totalAmount = list(filter(lambda x: x[2] == \"totalAmount\", entities))\n",
    "    if (len(totalAmount)):\n",
    "        totalAmount = totalAmount[0]\n",
    "        try:\n",
    "            y = float(labels['totalAmount'][0].replace(\"$\", \"\").strip())\n",
    "            yh = float(content[int(totalAmount[0]):totalAmount[1]].replace(\"$\", \"\").strip())\n",
    "            #print(y, yh)\n",
    "            if abs(y - yh) < .05:\n",
    "                s += 1\n",
    "        except Exception as e:\n",
    "            #print(content[totalAmount[0]: totalAmount[1]])\n",
    "            n1 -=1\n",
    "            pass\n",
    "    if(len(labels['totalLabel'])):\n",
    "        s2 += 1\n",
    "\n",
    "print(s, \"/\", n1)"
   ]
  },
  {
   "cell_type": "code",
   "execution_count": 9,
   "id": "1e9a346d-8233-4291-8c9c-689be55c25b5",
   "metadata": {},
   "outputs": [],
   "source": []
  },
  {
   "cell_type": "code",
   "execution_count": null,
   "id": "a9341dbd-73dc-400d-915e-d42790a30b16",
   "metadata": {},
   "outputs": [],
   "source": []
  },
  {
   "cell_type": "code",
   "execution_count": null,
   "id": "3129d836-083a-4c60-b1eb-85104d14f34c",
   "metadata": {},
   "outputs": [],
   "source": []
  },
  {
   "cell_type": "code",
   "execution_count": null,
   "id": "9c22216f-dc06-4b2b-b616-d80faf94b6d6",
   "metadata": {},
   "outputs": [],
   "source": []
  },
  {
   "cell_type": "code",
   "execution_count": null,
   "id": "fdbfced7-9de6-4f17-ac00-192b4c9cfdf6",
   "metadata": {},
   "outputs": [],
   "source": []
  },
  {
   "cell_type": "code",
   "execution_count": null,
   "id": "fdce2440-ecbe-47f8-967c-9d7c7a685dc4",
   "metadata": {},
   "outputs": [],
   "source": []
  },
  {
   "cell_type": "code",
   "execution_count": null,
   "id": "01208a76-d1e8-4509-8780-7954e5826a96",
   "metadata": {},
   "outputs": [],
   "source": []
  },
  {
   "cell_type": "code",
   "execution_count": null,
   "id": "863fa65d-7b9e-4f91-b3a0-260390b4b936",
   "metadata": {},
   "outputs": [],
   "source": []
  }
 ],
 "metadata": {
  "kernelspec": {
   "display_name": "Python 3",
   "language": "python",
   "name": "python3"
  },
  "language_info": {
   "codemirror_mode": {
    "name": "ipython",
    "version": 3
   },
   "file_extension": ".py",
   "mimetype": "text/x-python",
   "name": "python",
   "nbconvert_exporter": "python",
   "pygments_lexer": "ipython3",
   "version": "3.8.8"
  }
 },
 "nbformat": 4,
 "nbformat_minor": 5
}
