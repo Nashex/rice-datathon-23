{
 "cells": [
  {
   "cell_type": "code",
   "execution_count": 1,
   "id": "854d747b-8842-4119-b8a6-04a11710c97a",
   "metadata": {},
   "outputs": [
    {
     "name": "stdout",
     "output_type": "stream",
     "text": [
      "Loading spacy model from  models\n",
      "Finished Loading\n"
     ]
    }
   ],
   "source": [
    "import pandas as pd\n",
    "import pickle\n",
    "import numpy as np\n",
    "from sklearn.model_selection import train_test_split\n",
    "import spacy\n",
    "from pathlib import Path\n",
    "\n",
    "# Read in the test data for imgs\n",
    "output_dir = Path(\"./models\")\n",
    "print(\"Loading spacy model from \", output_dir)\n",
    "nlp = spacy.load(output_dir)\n",
    "print(\"Finished Loading\")"
   ]
  },
  {
   "cell_type": "code",
   "execution_count": 56,
   "id": "9c795c8f-71e3-4793-a106-227e92b51a5e",
   "metadata": {},
   "outputs": [],
   "source": [
    "img_test_path = \"./ocr_new.csv\"\n",
    "\n",
    "TEST_DATA = []\n",
    "with open(img_test_path, 'r') as file:\n",
    "    lines = [line.strip() for line in file.readlines()]\n",
    "    \n",
    "    # Annotate the data\n",
    "    for line in lines[1:]:\n",
    "        doc = nlp(line)\n",
    "        content = line\n",
    "        entities = {\"entities\": []}\n",
    "        for ent in doc.ents:\n",
    "            entities[\"entities\"].append((ent.label_, ent.text))\n",
    "        \n",
    "        v = (content, entities)\n",
    "        TEST_DATA.append(v)"
   ]
  },
  {
   "cell_type": "code",
   "execution_count": 58,
   "id": "ddbb1f74-cfc4-469e-9e3f-cc4ba42f5d33",
   "metadata": {
    "scrolled": true,
    "tags": []
   },
   "outputs": [],
   "source": [
    "# with open ('Data/spacy.txt', 'rb') as fp:\n",
    "#     TEST_DATA = pickle.load(fp)\n",
    "    \n",
    "row_labels = []\n",
    "for content, obj in TEST_DATA:\n",
    "    entities = obj[\"entities\"]\n",
    "    labels = {\n",
    "        \"totalAmount\": [],\n",
    "        \"totalLabel\": [],\n",
    "        \"date\": [],\n",
    "        \"address\": [],\n",
    "        \"vendor\": []\n",
    "    }\n",
    "    \n",
    "    docId = content.split(\",\")[1]\n",
    "    \n",
    "    for entity in entities:\n",
    "        #p = (int(entity[0]), int(entity[1]))\n",
    "        #key = entity[2]\n",
    "        #value = content[p[0]:p[1]].replace(\"$\", \"\").strip()\n",
    "        key = entity[0]\n",
    "        value = entity[1]\n",
    "        labels[key].append((docId, value))\n",
    "    \n",
    "    row_labels.append(labels)\n",
    "    \n",
    "bucket = {\n",
    "        \"amount\": [],\n",
    "        \"totalLabel\": [],\n",
    "        \"date\": [],\n",
    "        \"vendor_address\": [],\n",
    "        \"vendor_name\": []\n",
    "}\n",
    "\n",
    "keyMap = {\n",
    "    \"totalAmount\": \"amount\",\n",
    "    \"vendor\": \"vendor_name\",\n",
    "    \"totalLabel\": \"totalLabel\",\n",
    "    \"date\": \"date\",\n",
    "    \"address\": \"vendor_address\"\n",
    "}\n",
    "\n",
    "for item in row_labels:\n",
    "    for k, v in item.items():\n",
    "        bucket[keyMap[k]].extend(v)"
   ]
  },
  {
   "cell_type": "code",
   "execution_count": 59,
   "id": "70d9ee3a-ef6b-454c-81d9-9a45a8268c9c",
   "metadata": {},
   "outputs": [],
   "source": [
    "import re\n",
    "\n",
    "# Filter for numeric amounts\n",
    "bucket[\"amount\"] = list(filter(lambda x: re.match(\"\\d+[.]\\d+\", x[1]), bucket[\"amount\"]))"
   ]
  },
  {
   "cell_type": "code",
   "execution_count": 94,
   "id": "59f19455-447e-40bf-bd68-7dfbdbb2f832",
   "metadata": {},
   "outputs": [
    {
     "data": {
      "application/vnd.jupyter.widget-view+json": {
       "model_id": "b30034848dca4f79978cf56a76733450",
       "version_major": 2,
       "version_minor": 0
      },
      "text/plain": [
       "Downloading (…)a9bfc/.gitattributes:   0%|          | 0.00/690 [00:00<?, ?B/s]"
      ]
     },
     "metadata": {},
     "output_type": "display_data"
    },
    {
     "data": {
      "application/vnd.jupyter.widget-view+json": {
       "model_id": "063a646af0734c969a6cc2a08d1a883e",
       "version_major": 2,
       "version_minor": 0
      },
      "text/plain": [
       "Downloading (…)_Pooling/config.json:   0%|          | 0.00/191 [00:00<?, ?B/s]"
      ]
     },
     "metadata": {},
     "output_type": "display_data"
    },
    {
     "data": {
      "application/vnd.jupyter.widget-view+json": {
       "model_id": "802ebe93ebc94a0a89cc776b501f5a2c",
       "version_major": 2,
       "version_minor": 0
      },
      "text/plain": [
       "Downloading (…)297d1a9bfc/README.md:   0%|          | 0.00/3.98k [00:00<?, ?B/s]"
      ]
     },
     "metadata": {},
     "output_type": "display_data"
    },
    {
     "data": {
      "application/vnd.jupyter.widget-view+json": {
       "model_id": "eb22fb1e74694e5290d610f528890279",
       "version_major": 2,
       "version_minor": 0
      },
      "text/plain": [
       "Downloading (…)7d1a9bfc/config.json:   0%|          | 0.00/627 [00:00<?, ?B/s]"
      ]
     },
     "metadata": {},
     "output_type": "display_data"
    },
    {
     "data": {
      "application/vnd.jupyter.widget-view+json": {
       "model_id": "04e948cb2b444ea1af8aa8b1932f1cc0",
       "version_major": 2,
       "version_minor": 0
      },
      "text/plain": [
       "Downloading (…)ce_transformers.json:   0%|          | 0.00/122 [00:00<?, ?B/s]"
      ]
     },
     "metadata": {},
     "output_type": "display_data"
    },
    {
     "data": {
      "application/vnd.jupyter.widget-view+json": {
       "model_id": "fcd6d40945b54d64ac43ce6b353ace89",
       "version_major": 2,
       "version_minor": 0
      },
      "text/plain": [
       "Downloading (…)\"pytorch_model.bin\";:   0%|          | 0.00/1.34G [00:00<?, ?B/s]"
      ]
     },
     "metadata": {},
     "output_type": "display_data"
    },
    {
     "data": {
      "application/vnd.jupyter.widget-view+json": {
       "model_id": "4d4627c1260c4240a0aa885700cc751e",
       "version_major": 2,
       "version_minor": 0
      },
      "text/plain": [
       "Downloading (…)nce_bert_config.json:   0%|          | 0.00/53.0 [00:00<?, ?B/s]"
      ]
     },
     "metadata": {},
     "output_type": "display_data"
    },
    {
     "data": {
      "application/vnd.jupyter.widget-view+json": {
       "model_id": "1f33543a767b4859a60c6e9994bc02e6",
       "version_major": 2,
       "version_minor": 0
      },
      "text/plain": [
       "Downloading (…)cial_tokens_map.json:   0%|          | 0.00/112 [00:00<?, ?B/s]"
      ]
     },
     "metadata": {},
     "output_type": "display_data"
    },
    {
     "data": {
      "application/vnd.jupyter.widget-view+json": {
       "model_id": "48515244e48640bbb4c2536d8c8c6948",
       "version_major": 2,
       "version_minor": 0
      },
      "text/plain": [
       "Downloading (…)a9bfc/tokenizer.json:   0%|          | 0.00/466k [00:00<?, ?B/s]"
      ]
     },
     "metadata": {},
     "output_type": "display_data"
    },
    {
     "data": {
      "application/vnd.jupyter.widget-view+json": {
       "model_id": "062742fce5d54111a661ad340e251ee7",
       "version_major": 2,
       "version_minor": 0
      },
      "text/plain": [
       "Downloading (…)okenizer_config.json:   0%|          | 0.00/401 [00:00<?, ?B/s]"
      ]
     },
     "metadata": {},
     "output_type": "display_data"
    },
    {
     "data": {
      "application/vnd.jupyter.widget-view+json": {
       "model_id": "e7c79f13cb0544dd95ddad8bb4b2a006",
       "version_major": 2,
       "version_minor": 0
      },
      "text/plain": [
       "Downloading (…)297d1a9bfc/vocab.txt:   0%|          | 0.00/232k [00:00<?, ?B/s]"
      ]
     },
     "metadata": {},
     "output_type": "display_data"
    },
    {
     "data": {
      "application/vnd.jupyter.widget-view+json": {
       "model_id": "8c89925e9f5849d3abb4235844308f38",
       "version_major": 2,
       "version_minor": 0
      },
      "text/plain": [
       "Downloading (…)d1a9bfc/modules.json:   0%|          | 0.00/229 [00:00<?, ?B/s]"
      ]
     },
     "metadata": {},
     "output_type": "display_data"
    }
   ],
   "source": [
    "from sentence_transformers import SentenceTransformer\n",
    "\n",
    "# Vectorize all of the fields\n",
    "dataframes = []\n",
    "model = SentenceTransformer('bert-base-nli-mean-tokens')\n",
    "\n",
    "for k in bucket.keys():\n",
    "    ids = [v[0] for v in bucket[k]]\n",
    "    values = [v[1] for v in bucket[k]]\n",
    "    \n",
    "    entity_embeddings = model.encode(values)\n",
    "    \n",
    "    obj = {\n",
    "        \"documentid\": ids, \n",
    "    }\n",
    "    obj[k] = values\n",
    "    if k != \"amount\":\n",
    "        obj[k + \"_embedding\"] = [(e) for e in model.encode(values)]\n",
    "    else:\n",
    "        obj[k + \"_embedding\"] = [(np.array([float(e)])) for e in values]\n",
    "    \n",
    "    df = pd.DataFrame(obj)\n",
    "    dataframes.append(df)"
   ]
  },
  {
   "cell_type": "code",
   "execution_count": 95,
   "id": "a9dda5ad-395f-4a83-8e73-a5567f50fef5",
   "metadata": {},
   "outputs": [
    {
     "data": {
      "text/html": [
       "<div>\n",
       "<style scoped>\n",
       "    .dataframe tbody tr th:only-of-type {\n",
       "        vertical-align: middle;\n",
       "    }\n",
       "\n",
       "    .dataframe tbody tr th {\n",
       "        vertical-align: top;\n",
       "    }\n",
       "\n",
       "    .dataframe thead th {\n",
       "        text-align: right;\n",
       "    }\n",
       "</style>\n",
       "<table border=\"1\" class=\"dataframe\">\n",
       "  <thead>\n",
       "    <tr style=\"text-align: right;\">\n",
       "      <th></th>\n",
       "      <th>documentid</th>\n",
       "      <th>amount</th>\n",
       "      <th>amount_embedding</th>\n",
       "      <th>date</th>\n",
       "      <th>date_embedding</th>\n",
       "      <th>vendor_address</th>\n",
       "      <th>vendor_address_embedding</th>\n",
       "      <th>vendor_name</th>\n",
       "      <th>vendor_name_embedding</th>\n",
       "    </tr>\n",
       "  </thead>\n",
       "  <tbody>\n",
       "    <tr>\n",
       "      <th>0</th>\n",
       "      <td>00d0243046961</td>\n",
       "      <td>9.65</td>\n",
       "      <td>[9.65]</td>\n",
       "      <td>29/03/18</td>\n",
       "      <td>[-0.6459081, 1.4347223, -0.4738709, -0.9654732...</td>\n",
       "      <td>BOOK CO. (M) SDN BHD</td>\n",
       "      <td>[0.13748485, 0.01564531, 0.40901953, -0.939231...</td>\n",
       "      <td>NaN</td>\n",
       "      <td>NaN</td>\n",
       "    </tr>\n",
       "    <tr>\n",
       "      <th>1</th>\n",
       "      <td>00d0243046961</td>\n",
       "      <td>9.65</td>\n",
       "      <td>[9.65]</td>\n",
       "      <td>29/03/18</td>\n",
       "      <td>[-0.6459081, 1.4347223, -0.4738709, -0.9654732...</td>\n",
       "      <td>No 8, Jalan 7/118B, Desa Tun Razak 56000 Kuala...</td>\n",
       "      <td>[0.578864, 0.55168676, -0.109442174, -0.736170...</td>\n",
       "      <td>NaN</td>\n",
       "      <td>NaN</td>\n",
       "    </tr>\n",
       "    <tr>\n",
       "      <th>2</th>\n",
       "      <td>00d0164592408</td>\n",
       "      <td>6.00</td>\n",
       "      <td>[6.0]</td>\n",
       "      <td>2018</td>\n",
       "      <td>[-0.20909913, 1.8728611, 0.05629508, -0.401791...</td>\n",
       "      <td>No.2, Jalan Temenggung 19/9, Seksyen 9, Bandar...</td>\n",
       "      <td>[0.66079926, 1.2506262, 0.30348724, -0.5321358...</td>\n",
       "      <td>NaN</td>\n",
       "      <td>NaN</td>\n",
       "    </tr>\n",
       "    <tr>\n",
       "      <th>3</th>\n",
       "      <td>00d0142736377</td>\n",
       "      <td>35.00</td>\n",
       "      <td>[35.0]</td>\n",
       "      <td>13-06-2018</td>\n",
       "      <td>[0.36338586, 2.3204677, -0.05483611, -0.403898...</td>\n",
       "      <td>NO.1, TAMAN SRI DENGKIL, JALAN AIR HITAM 43800...</td>\n",
       "      <td>[0.67402095, 1.0543537, 0.5044794, -0.41738924...</td>\n",
       "      <td>THREE SEAFOOD RESTAURANT SDN BHD</td>\n",
       "      <td>[0.30204177, -0.07559246, -0.34028977, 0.72516...</td>\n",
       "    </tr>\n",
       "    <tr>\n",
       "      <th>4</th>\n",
       "      <td>00d0530724847</td>\n",
       "      <td>6.00</td>\n",
       "      <td>[6.0]</td>\n",
       "      <td>19-03-2018</td>\n",
       "      <td>[-0.026938912, 1.9348917, -0.29990977, -0.5566...</td>\n",
       "      <td>No.2, Jalan Temenggung 19/9, Seksyen 9, Bandar...</td>\n",
       "      <td>[0.66079926, 1.2506262, 0.30348724, -0.5321358...</td>\n",
       "      <td>NaN</td>\n",
       "      <td>NaN</td>\n",
       "    </tr>\n",
       "    <tr>\n",
       "      <th>...</th>\n",
       "      <td>...</td>\n",
       "      <td>...</td>\n",
       "      <td>...</td>\n",
       "      <td>...</td>\n",
       "      <td>...</td>\n",
       "      <td>...</td>\n",
       "      <td>...</td>\n",
       "      <td>...</td>\n",
       "      <td>...</td>\n",
       "    </tr>\n",
       "    <tr>\n",
       "      <th>722</th>\n",
       "      <td>00d0464742744</td>\n",
       "      <td>NaN</td>\n",
       "      <td>NaN</td>\n",
       "      <td>NaN</td>\n",
       "      <td>NaN</td>\n",
       "      <td>NaN</td>\n",
       "      <td>NaN</td>\n",
       "      <td>0,00d0464742744,\"SANYO STATIONERY SHOP NO. 31G...</td>\n",
       "      <td>[0.168012, 0.31575555, 0.2365051, -0.34233254,...</td>\n",
       "    </tr>\n",
       "    <tr>\n",
       "      <th>723</th>\n",
       "      <td>00d0358154075</td>\n",
       "      <td>NaN</td>\n",
       "      <td>NaN</td>\n",
       "      <td>NaN</td>\n",
       "      <td>NaN</td>\n",
       "      <td>NaN</td>\n",
       "      <td>NaN</td>\n",
       "      <td>STATIONERY SHOP NO. 31G&amp;33G, JALAN SETIA INDAH...</td>\n",
       "      <td>[0.12828787, 0.30251566, 0.395815, -0.34087104...</td>\n",
       "    </tr>\n",
       "    <tr>\n",
       "      <th>724</th>\n",
       "      <td>00d0937018331</td>\n",
       "      <td>NaN</td>\n",
       "      <td>NaN</td>\n",
       "      <td>NaN</td>\n",
       "      <td>NaN</td>\n",
       "      <td>NaN</td>\n",
       "      <td>NaN</td>\n",
       "      <td>STATIONERY SHOP NO. 31G&amp;33G, JALAN SETIA INDAH...</td>\n",
       "      <td>[0.12828787, 0.30251566, 0.395815, -0.34087104...</td>\n",
       "    </tr>\n",
       "    <tr>\n",
       "      <th>725</th>\n",
       "      <td>00d0803190070</td>\n",
       "      <td>NaN</td>\n",
       "      <td>NaN</td>\n",
       "      <td>NaN</td>\n",
       "      <td>NaN</td>\n",
       "      <td>NaN</td>\n",
       "      <td>NaN</td>\n",
       "      <td>STATIONERY SHOP NO. 31G&amp;33G, JALAN SETIA INDAH...</td>\n",
       "      <td>[0.08707425, 0.28516972, 0.3332275, -0.3129031...</td>\n",
       "    </tr>\n",
       "    <tr>\n",
       "      <th>726</th>\n",
       "      <td>00d0698784211</td>\n",
       "      <td>NaN</td>\n",
       "      <td>NaN</td>\n",
       "      <td>NaN</td>\n",
       "      <td>NaN</td>\n",
       "      <td>NaN</td>\n",
       "      <td>NaN</td>\n",
       "      <td>STATIONERY SHOP NO. 31G&amp;33G, JALAN SETIA INDAH...</td>\n",
       "      <td>[0.12828787, 0.30251566, 0.395815, -0.34087104...</td>\n",
       "    </tr>\n",
       "  </tbody>\n",
       "</table>\n",
       "<p>727 rows × 9 columns</p>\n",
       "</div>"
      ],
      "text/plain": [
       "        documentid amount amount_embedding        date  \\\n",
       "0    00d0243046961   9.65           [9.65]    29/03/18   \n",
       "1    00d0243046961   9.65           [9.65]    29/03/18   \n",
       "2    00d0164592408   6.00            [6.0]        2018   \n",
       "3    00d0142736377  35.00           [35.0]  13-06-2018   \n",
       "4    00d0530724847   6.00            [6.0]  19-03-2018   \n",
       "..             ...    ...              ...         ...   \n",
       "722  00d0464742744    NaN              NaN         NaN   \n",
       "723  00d0358154075    NaN              NaN         NaN   \n",
       "724  00d0937018331    NaN              NaN         NaN   \n",
       "725  00d0803190070    NaN              NaN         NaN   \n",
       "726  00d0698784211    NaN              NaN         NaN   \n",
       "\n",
       "                                        date_embedding  \\\n",
       "0    [-0.6459081, 1.4347223, -0.4738709, -0.9654732...   \n",
       "1    [-0.6459081, 1.4347223, -0.4738709, -0.9654732...   \n",
       "2    [-0.20909913, 1.8728611, 0.05629508, -0.401791...   \n",
       "3    [0.36338586, 2.3204677, -0.05483611, -0.403898...   \n",
       "4    [-0.026938912, 1.9348917, -0.29990977, -0.5566...   \n",
       "..                                                 ...   \n",
       "722                                                NaN   \n",
       "723                                                NaN   \n",
       "724                                                NaN   \n",
       "725                                                NaN   \n",
       "726                                                NaN   \n",
       "\n",
       "                                        vendor_address  \\\n",
       "0                                 BOOK CO. (M) SDN BHD   \n",
       "1    No 8, Jalan 7/118B, Desa Tun Razak 56000 Kuala...   \n",
       "2    No.2, Jalan Temenggung 19/9, Seksyen 9, Bandar...   \n",
       "3    NO.1, TAMAN SRI DENGKIL, JALAN AIR HITAM 43800...   \n",
       "4    No.2, Jalan Temenggung 19/9, Seksyen 9, Bandar...   \n",
       "..                                                 ...   \n",
       "722                                                NaN   \n",
       "723                                                NaN   \n",
       "724                                                NaN   \n",
       "725                                                NaN   \n",
       "726                                                NaN   \n",
       "\n",
       "                              vendor_address_embedding  \\\n",
       "0    [0.13748485, 0.01564531, 0.40901953, -0.939231...   \n",
       "1    [0.578864, 0.55168676, -0.109442174, -0.736170...   \n",
       "2    [0.66079926, 1.2506262, 0.30348724, -0.5321358...   \n",
       "3    [0.67402095, 1.0543537, 0.5044794, -0.41738924...   \n",
       "4    [0.66079926, 1.2506262, 0.30348724, -0.5321358...   \n",
       "..                                                 ...   \n",
       "722                                                NaN   \n",
       "723                                                NaN   \n",
       "724                                                NaN   \n",
       "725                                                NaN   \n",
       "726                                                NaN   \n",
       "\n",
       "                                           vendor_name  \\\n",
       "0                                                  NaN   \n",
       "1                                                  NaN   \n",
       "2                                                  NaN   \n",
       "3                     THREE SEAFOOD RESTAURANT SDN BHD   \n",
       "4                                                  NaN   \n",
       "..                                                 ...   \n",
       "722  0,00d0464742744,\"SANYO STATIONERY SHOP NO. 31G...   \n",
       "723  STATIONERY SHOP NO. 31G&33G, JALAN SETIA INDAH...   \n",
       "724  STATIONERY SHOP NO. 31G&33G, JALAN SETIA INDAH...   \n",
       "725  STATIONERY SHOP NO. 31G&33G, JALAN SETIA INDAH...   \n",
       "726  STATIONERY SHOP NO. 31G&33G, JALAN SETIA INDAH...   \n",
       "\n",
       "                                 vendor_name_embedding  \n",
       "0                                                  NaN  \n",
       "1                                                  NaN  \n",
       "2                                                  NaN  \n",
       "3    [0.30204177, -0.07559246, -0.34028977, 0.72516...  \n",
       "4                                                  NaN  \n",
       "..                                                 ...  \n",
       "722  [0.168012, 0.31575555, 0.2365051, -0.34233254,...  \n",
       "723  [0.12828787, 0.30251566, 0.395815, -0.34087104...  \n",
       "724  [0.12828787, 0.30251566, 0.395815, -0.34087104...  \n",
       "725  [0.08707425, 0.28516972, 0.3332275, -0.3129031...  \n",
       "726  [0.12828787, 0.30251566, 0.395815, -0.34087104...  \n",
       "\n",
       "[727 rows x 9 columns]"
      ]
     },
     "execution_count": 95,
     "metadata": {},
     "output_type": "execute_result"
    }
   ],
   "source": [
    "# Merge all the dfs together\n",
    "merge = pd.merge(dataframes[0],dataframes[2],on='documentid',how='outer')\n",
    "merge = pd.merge(merge,dataframes[3],on='documentid',how='outer')\n",
    "merge = pd.merge(merge,dataframes[4],on='documentid',how='outer')\n",
    "img_df = merge\n",
    "img_df"
   ]
  },
  {
   "cell_type": "code",
   "execution_count": 96,
   "id": "89e85044-354e-431e-ba75-136cc882966b",
   "metadata": {},
   "outputs": [],
   "source": [
    "from sklearn.metrics.pairwise import cosine_similarity\n",
    "from numpy import linalg\n",
    "\n",
    "dist_cols = [\"image_doc_id\", \"user_doc_id\", \"amount_dist\", \"vendor_name_dist\", \"vendor_address_dist\", \"date_dist\"]\n",
    "cols = [\"amount_embedding\", \"vendor_name_embedding\", \"vendor_address_embedding\", \"date_embedding\"]\n",
    "\n",
    "def getEmbedding(x):\n",
    "    x_row = x.copy()\n",
    "    cols = ['date', 'vendor_name','vendor_address']\n",
    "    for col in cols:\n",
    "        # Create a model for each col and make the embedding\n",
    "        values = x_row[col]\n",
    "        embeddings = model.encode(values)\n",
    "        x_row[col + \"_embedding\"] = [(e) for e in embeddings]\n",
    "\n",
    "    # The embeddings for amounts are just the amounts\n",
    "    x_row[\"amount_embedding\"] = [(np.array(float(x[\"amount\"])))]\n",
    "    return x_row\n",
    "\n",
    "def getImageDists(x):\n",
    "    # Get the embedding for the x value\n",
    "    ref = getEmbedding(x)\n",
    "    \n",
    "    df = pd.DataFrame(columns=dist_cols)\n",
    "    \n",
    "    for i, row in img_df.iterrows():\n",
    "        img_id = row[\"documentid\"]\n",
    "        user_id = ref['documentid']\n",
    "        entry = {\n",
    "           \"image_doc_id\": img_id,\n",
    "            \"user_doc_id\": user_id \n",
    "        }\n",
    "        \n",
    "        for col in cols:\n",
    "            value_col = col.rsplit(\"_\", 1)[0]\n",
    "            embed_col = col\n",
    "                      \n",
    "\n",
    "            dist = linalg.norm(np.array(ref[embed_col]) - np.array(row[embed_col]))\n",
    "            \n",
    "            entry[value_col + \"_img\"] = row[value_col]\n",
    "            entry[value_col + \"_user\"] = ref[value_col]\n",
    "            \n",
    "            entry[value_col + \"_dist\"] = dist\n",
    "        \n",
    "        df = df.append(entry, ignore_index=True)\n",
    "        \n",
    "    return df"
   ]
  },
  {
   "cell_type": "code",
   "execution_count": 98,
   "id": "2110443e-8c3c-423f-bd70-625a156c44c5",
   "metadata": {},
   "outputs": [],
   "source": [
    "def match(x, n=1, w=[1, 1, 1, 1]):\n",
    "    dists = getImageDists(x)\n",
    "    dists[\"sum\"] = (w[0] * dists[\"amount_dist\"]) + (w[1] * dists[\"vendor_name_dist\"]) + (w[2] * dists[\"vendor_address_dist\"]) + (w[3] * dists[\"date_dist\"])\n",
    "    dists = dists.sort_values([\"sum\"])\n",
    "    return dists.head(n)\n",
    "\n",
    "def matches(x, w=[1, 1, 1, 1]):\n",
    "    dists = getImageDists(x)\n",
    "    dists[\"sum\"] = (w[0] * dists[\"amount_dist\"]) + (w[1] * dists[\"vendor_name_dist\"]) + (w[2] * dists[\"vendor_address_dist\"]) + (w[3] * dists[\"date_dist\"])\n",
    "    return dists.sort_values([\"sum\"])"
   ]
  },
  {
   "cell_type": "code",
   "execution_count": null,
   "id": "0e520686-1de7-4765-80fa-091574122069",
   "metadata": {
    "scrolled": true,
    "tags": []
   },
   "outputs": [
    {
     "name": "stderr",
     "output_type": "stream",
     "text": [
      "1it [00:03,  3.78s/it]"
     ]
    },
    {
     "name": "stdout",
     "output_type": "stream",
     "text": [
      "no match\n",
      "      image_doc_id    user_doc_id  amount_dist  vendor_name_dist  \\\n",
      "194  00d0353443719  00d0320587587         0.44         13.354272   \n",
      "109  00d0186887844  00d0320587587         2.70          9.987178   \n",
      "193  00d0353443719  00d0320587587         2.20         13.354272   \n",
      "\n",
      "     vendor_address_dist  date_dist amount_img  amount_user    date_img  \\\n",
      "194            10.898200  13.188985      29.24         28.8  09/03/2018   \n",
      "109            10.129859  17.154823      26.10         28.8          18   \n",
      "193            10.898200  13.188985      31.00         28.8  09/03/2018   \n",
      "\n",
      "     date_user                                 vendor_address_img  \\\n",
      "194  2019-1-23  SRD FLR, AEON TAMAN MALURI SC JLN JEJAKA, TAMA...   \n",
      "109  2019-1-23  LOT 1851-A & 1851-B, JALAN KPB 6, KAWASAN PERI...   \n",
      "193  2019-1-23  SRD FLR, AEON TAMAN MALURI SC JLN JEJAKA, TAMA...   \n",
      "\n",
      "                                   vendor_address_user       vendor_name_img  \\\n",
      "194  NO. 443, JALAN KURAU, SUNGAI RENGIT, 81620 PEN...      AEON CO. (M) BHD   \n",
      "109  NO. 443, JALAN KURAU, SUNGAI RENGIT, 81620 PEN...  . D.I.Y. (M) SDN BHD   \n",
      "193  NO. 443, JALAN KURAU, SUNGAI RENGIT, 81620 PEN...      AEON CO. (M) BHD   \n",
      "\n",
      "                           vendor_name_user        sum  \n",
      "194  S.H.H. MOTOR (SUNGAI RENGIT) SDN. BHD.  59.677857  \n",
      "109  S.H.H. MOTOR (SUNGAI RENGIT) SDN. BHD.  60.231578  \n",
      "193  S.H.H. MOTOR (SUNGAI RENGIT) SDN. BHD.  61.437857  \n",
      "Running Adj Acc: 0.0\n"
     ]
    },
    {
     "name": "stderr",
     "output_type": "stream",
     "text": [
      "2it [00:07,  3.63s/it]"
     ]
    },
    {
     "name": "stdout",
     "output_type": "stream",
     "text": [
      "no match\n",
      "      image_doc_id    user_doc_id  amount_dist  vendor_name_dist  \\\n",
      "35   00d0366175414  00d0333208815          0.6          0.000016   \n",
      "184  00d0841246769  00d0333208815          1.1          0.000016   \n",
      "66   00d0821795963  00d0333208815          3.0          0.000016   \n",
      "\n",
      "     vendor_address_dist  date_dist amount_img  amount_user     date_img  \\\n",
      "35              0.000011  15.512054       7.60          8.2  18 Apr 2018   \n",
      "184             0.000011  15.594954       7.10          8.2  03 Apr 2018   \n",
      "66              0.000011  15.942965      11.20          8.2  05 May 2018   \n",
      "\n",
      "     date_user                                 vendor_address_img  \\\n",
      "35   2018-4-16  12, Jalan Tampoi 7/4,Kawasan Perindustrian Tam...   \n",
      "184  2018-4-16  12, Jalan Tampoi 7/4,Kawasan Perindustrian Tam...   \n",
      "66   2018-4-16  12, Jalan Tampoi 7/4,Kawasan Perindustrian Tam...   \n",
      "\n",
      "                                   vendor_address_user  \\\n",
      "35   12, JALAN TAMPOI 7/4,KAWASAN PERINDUSTRIAN TAM...   \n",
      "184  12, JALAN TAMPOI 7/4,KAWASAN PERINDUSTRIAN TAM...   \n",
      "66   12, JALAN TAMPOI 7/4,KAWASAN PERINDUSTRIAN TAM...   \n",
      "\n",
      "                    vendor_name_img                vendor_name_user        sum  \n",
      "35   UNIHAKKA INTERNATIONAL SDN BHD  UNIHAKKA INTERNATIONAL SDN BHD  16.112104  \n",
      "184  UNIHAKKA INTERNATIONAL SDN BHD  UNIHAKKA INTERNATIONAL SDN BHD  16.695004  \n",
      "66   UNIHAKKA INTERNATIONAL SDN BHD  UNIHAKKA INTERNATIONAL SDN BHD  18.943014  \n",
      "Running Adj Acc: 0.0\n"
     ]
    },
    {
     "name": "stderr",
     "output_type": "stream",
     "text": [
      "3it [00:11,  3.82s/it]"
     ]
    },
    {
     "name": "stdout",
     "output_type": "stream",
     "text": [
      "no match\n",
      "      image_doc_id    user_doc_id  amount_dist  vendor_name_dist  \\\n",
      "99   00d0192025858  00d0116292534         2.10         19.955214   \n",
      "317  00d0569507667  00d0116292534         1.48         23.240124   \n",
      "111  00d0449498451  00d0116292534         0.68         20.101362   \n",
      "\n",
      "     vendor_address_dist  date_dist amount_img  amount_user    date_img  \\\n",
      "99             13.444457  13.359706      11.68        13.78  05/08/2017   \n",
      "317            12.234123  15.995770      12.30        13.78  14/04/2018   \n",
      "111            13.803770  15.411748      13.10        13.78  18/03/2018   \n",
      "\n",
      "    date_user                                 vendor_address_img  \\\n",
      "99   2017-7-7  GROUND FLOOR, NO. 4 & 6, JALAN SS 15/4B, 47500...   \n",
      "317  2017-7-7  LOT G29 & G30, AEON Mall TEBRAU CITY, NO, 1, J...   \n",
      "111  2017-7-7  Level’6, Bangunan TH, Damansara Uptown3 No.3, ...   \n",
      "\n",
      "                                   vendor_address_user  \\\n",
      "99   LOFT B-005-006, BASEMENT LEVEL 1 THE STARLING ...   \n",
      "317  LOFT B-005-006, BASEMENT LEVEL 1 THE STARLING ...   \n",
      "111  LOFT B-005-006, BASEMENT LEVEL 1 THE STARLING ...   \n",
      "\n",
      "                      vendor_name_img                   vendor_name_user  \\\n",
      "99     GARDENIA BAKERIES (KL) SDN BHD  GUARDIAN HEALTH AND BEAUTY SDNBHD   \n",
      "317         CONFECTIONERY & BAKERY S/  GUARDIAN HEALTH AND BEAUTY SDNBHD   \n",
      "111  Gerbang Alaf Restaurants Sdn Bhd  GUARDIAN HEALTH AND BEAUTY SDNBHD   \n",
      "\n",
      "           sum  \n",
      "99   75.748291  \n",
      "317  77.418264  \n",
      "111  77.604420  \n",
      "Running Adj Acc: 0.0\n"
     ]
    },
    {
     "name": "stderr",
     "output_type": "stream",
     "text": [
      "4it [00:15,  3.81s/it]"
     ]
    },
    {
     "name": "stdout",
     "output_type": "stream",
     "text": [
      "no match\n",
      "      image_doc_id    user_doc_id  amount_dist  vendor_name_dist  \\\n",
      "338  00d0797361085  00d0973462000         1.64         19.164242   \n",
      "337  00d0797361085  00d0973462000         1.64         19.164242   \n",
      "193  00d0353443719  00d0973462000         2.50         18.969934   \n",
      "\n",
      "     vendor_address_dist  date_dist amount_img  amount_user    date_img  \\\n",
      "338            15.302782  10.055247      35.14         33.5  01/10/2017   \n",
      "337            15.302782  10.055247      35.14         33.5  01/10/2017   \n",
      "193            13.408449  16.698231      31.00         33.5  09/03/2018   \n",
      "\n",
      "     date_user                                 vendor_address_img  \\\n",
      "338  2017-1-11  Lot 3, Jalan Pelabur 23/1, 40300 Shah Alam, Se...   \n",
      "337  2017-1-11  Lot 3, Jalan Pelabur 23/1, 40300 Shah Alam, Se...   \n",
      "193  2017-1-11  SRD FLR, AEON TAMAN MALURI SC JLN JEJAKA, TAMA...   \n",
      "\n",
      "                                   vendor_address_user  \\\n",
      "338  NO. 31G&33G, JLAAN SETIA INDAH X ,U13/X 4017 0...   \n",
      "337  NO. 31G&33G, JLAAN SETIA INDAH X ,U13/X 4017 0...   \n",
      "193  NO. 31G&33G, JLAAN SETIA INDAH X ,U13/X 4017 0...   \n",
      "\n",
      "            vendor_name_img       vendor_name_user        sum  \n",
      "338  BAKE RIES (KL) SDN BHD  SANYU STATIONERY SHOP  76.767835  \n",
      "337  BAKE RIES (KL) SDN BHD  SANYU STATIONERY SHOP  76.767835  \n",
      "193        AEON CO. (M) BHD  SANYU STATIONERY SHOP  78.393513  \n",
      "Running Adj Acc: 0.0\n"
     ]
    },
    {
     "name": "stderr",
     "output_type": "stream",
     "text": [
      "5it [00:18,  3.79s/it]"
     ]
    },
    {
     "name": "stdout",
     "output_type": "stream",
     "text": [
      "match\n",
      "      image_doc_id    user_doc_id  amount_dist  vendor_name_dist  \\\n",
      "214  00d0280864237  00d0280864237         0.00          0.000009   \n",
      "51   00d0677299556  00d0280864237         2.32         20.705523   \n",
      "229  00d0338048914  00d0280864237        47.70          0.000009   \n",
      "\n",
      "     vendor_address_dist  date_dist amount_img  amount_user    date_img  \\\n",
      "214             4.068748   8.345243     174.90        174.9  31/03/2018   \n",
      "51              8.870045  18.492744     177.22        174.9    11-05-16   \n",
      "229             3.848344  11.243047     127.20        174.9  06/03/2018   \n",
      "\n",
      "     date_user                                 vendor_address_img  \\\n",
      "214  2018-3-31     LOT 276 JALAN BANTING 43800 DENGKIL, SELANGOR.   \n",
      "51   2018-3-31  LOT P.T. 33196, BATU 4 JALAN KAPAR, MUKIM KAPA...   \n",
      "229  2018-3-31     LOT 276 JALAN BANTING 43800 DENGKIL, SELANGOR,   \n",
      "\n",
      "                                vendor_address_user        vendor_name_img  \\\n",
      "214  LOT 276 JLAN BANTINNG 43800 DENGKIL, SELANGOR.  KEDAI PAPAN YEW CHUAN   \n",
      "51   LOT 276 JLAN BANTINNG 43800 DENGKIL, SELANGOR.          SPEED MART S/   \n",
      "229  LOT 276 JLAN BANTINNG 43800 DENGKIL, SELANGOR.  KEDAI PAPAN YEW CHUAN   \n",
      "\n",
      "          vendor_name_user        sum  \n",
      "214  KEDAI PAPAN YEW CHUAN  20.551495  \n",
      "51   KEDAI PAPAN YEW CHUAN  68.128401  \n",
      "229  KEDAI PAPAN YEW CHUAN  70.488087  \n",
      "Running Adj Acc: 0.1999960000799984\n"
     ]
    },
    {
     "name": "stderr",
     "output_type": "stream",
     "text": [
      "6it [00:23,  3.98s/it]"
     ]
    },
    {
     "name": "stdout",
     "output_type": "stream",
     "text": [
      "no match\n",
      "      image_doc_id    user_doc_id  amount_dist  vendor_name_dist  \\\n",
      "265  00d0734092781  00d0330285744          2.4          8.486708   \n",
      "257  00d0916574976  00d0330285744          0.1          8.765873   \n",
      "203  00d0652046562  00d0330285744          6.0          8.155969   \n",
      "\n",
      "     vendor_address_dist  date_dist amount_img  amount_user   date_img  \\\n",
      "265             2.209239  13.278356      12.30          9.9  24 -03-18   \n",
      "257             2.266804  17.287016      10.00          9.9         18   \n",
      "203             2.266804  16.220646       3.90          9.9      11-17   \n",
      "\n",
      "      date_user                                 vendor_address_img  \\\n",
      "265  2017-12-28  LOT 1851-A & 1851-B, JALAN KPB 6, KAWASAN PERI...   \n",
      "257  2017-12-28  LOT 1851-A & 1851-B, JALAN KPB 6, KAWASAN PERI...   \n",
      "203  2017-12-28  LOT 1851-A & 1851-B, JALAN KPB 6, KAWASAN PERI...   \n",
      "\n",
      "                                   vendor_address_user  \\\n",
      "265  LOT 1851-A & 1851-B, JALAN KPB 6, KAWASAN PERI...   \n",
      "257  LOT 1851-A & 1851-B, JALAN KPB 6, KAWASAN PERI...   \n",
      "203  LOT 1851-A & 1851-B, JALAN KPB 6, KAWASAN PERI...   \n",
      "\n",
      "            vendor_name_img      vendor_name_user        sum  \n",
      "265      D.I.Y. (M) SDN BHD  MR. D.KKI.Y. SDN BHD  30.792779  \n",
      "257  MR. D.1.¥. (M) SDN BHD  MR. D.KKI.Y. SDN BHD  32.953302  \n",
      "203        . D.I.Y. SDN BHD  MR. D.KKI.Y. SDN BHD  37.177028  \n",
      "Running Adj Acc: 0.1666638889351844\n"
     ]
    },
    {
     "name": "stderr",
     "output_type": "stream",
     "text": [
      "7it [00:27,  3.98s/it]"
     ]
    },
    {
     "name": "stdout",
     "output_type": "stream",
     "text": [
      "match\n",
      "      image_doc_id    user_doc_id  amount_dist  vendor_name_dist  \\\n",
      "34   00d0167381962  00d0167381962         0.33          4.154698   \n",
      "208  00d0795468800  00d0167381962         3.40         17.666758   \n",
      "263  00d0225816395  00d0167381962         3.46         12.521903   \n",
      "\n",
      "     vendor_address_dist  date_dist amount_img  amount_user    date_img  \\\n",
      "34              4.017047   8.278746       5.57          5.9  22/03/2018   \n",
      "208             9.684624  12.103020       2.50          5.9  03/05/2018   \n",
      "263            10.442649  15.329567       9.36          5.9  17/08/2017   \n",
      "\n",
      "     date_user                                 vendor_address_img  \\\n",
      "34   2018-3-22  3 FLOOR, AEON TAMAN MALURI SC JLN JEJAKA, TAMA...   \n",
      "208  2018-3-22  69, JALAN TEMENGGUNG 3/9 BANDAR MAHKOTA CHERAS...   \n",
      "263  2018-3-22  Lot 3, Jalan Pelabur 23/1, 40300 Shalt Alam, S...   \n",
      "\n",
      "                                   vendor_address_user        vendor_name_img  \\\n",
      "34   3 FLOOR, AENO TAMAN MALURI SC JLN JEJAKA, TAMA...      AEON CO. (M) BHD.   \n",
      "208  3 FLOOR, AENO TAMAN MALURI SC JLN JEJAKA, TAMA...  KEE CHERAS RESTAURANT   \n",
      "263  3 FLOOR, AENO TAMAN MALURI SC JLN JEJAKA, TAMA...  BAKERLES (KL) SDN BHD   \n",
      "\n",
      "     vendor_name_user        sum  \n",
      "34   EON CO. (M) BHD.  24.814585  \n",
      "208  EON CO. (M) BHD.  62.223648  \n",
      "263  EON CO. (M) BHD.  62.639417  \n",
      "Running Adj Acc: 0.28571020413994086\n"
     ]
    },
    {
     "name": "stderr",
     "output_type": "stream",
     "text": [
      "8it [00:31,  3.96s/it]"
     ]
    },
    {
     "name": "stdout",
     "output_type": "stream",
     "text": [
      "no match\n",
      "      image_doc_id    user_doc_id  amount_dist  vendor_name_dist  \\\n",
      "124  00d0622420051  00d0502129574         9.75          0.000014   \n",
      "193  00d0353443719  00d0502129574        17.35          0.000014   \n",
      "120  00d0622420051  00d0502129574        17.75          0.000014   \n",
      "\n",
      "     vendor_address_dist  date_dist amount_img  amount_user    date_img  \\\n",
      "124             8.946380  13.184356      38.60        48.35  12/06/2018   \n",
      "193             8.909942  12.410274      31.00        48.35  09/03/2018   \n",
      "120             8.946380  13.184356      30.60        48.35  12/06/2018   \n",
      "\n",
      "     date_user                                 vendor_address_img  \\\n",
      "124  2018-4-22  SRO FLR, AEON TAMAN MALURI SC JLN JEJAKA, TAMA...   \n",
      "193  2018-4-22  SRD FLR, AEON TAMAN MALURI SC JLN JEJAKA, TAMA...   \n",
      "120  2018-4-22  SRO FLR, AEON TAMAN MALURI SC JLN JEJAKA, TAMA...   \n",
      "\n",
      "                                   vendor_address_user   vendor_name_img  \\\n",
      "124  3RD FLR, AEON TAMAN MALURI SC JLN JEJAKA, TAMA...  AEON CO. (M) BHD   \n",
      "193  3RD FLR, AEON TAMAN MALURI SC JLN JEJAKA, TAMA...  AEON CO. (M) BHD   \n",
      "120  3RD FLR, AEON TAMAN MALURI SC JLN JEJAKA, TAMA...  AEON CO. (M) BHD   \n",
      "\n",
      "     vendor_name_user        sum  \n",
      "124  AEON CO. (M) BHD  49.773509  \n",
      "193  AEON CO. (M) BHD  56.490112  \n",
      "120  AEON CO. (M) BHD  57.773509  \n",
      "Running Adj Acc: 0.249996875039062\n"
     ]
    }
   ],
   "source": [
    "from tqdm import tqdm\n",
    "\n",
    "test = pd.read_csv(\"./dev_users.csv\")\n",
    "\n",
    "t = 0\n",
    "n = len(test)\n",
    "tested = .0001\n",
    "\n",
    "bar = tqdm(test.iterrows())\n",
    "for i, row in bar:\n",
    "    res = match(row, 3, [1, 1, 3, 1])\n",
    "    tested += 1\n",
    "        \n",
    "    if (res[\"image_doc_id\"].values[0] == res[\"user_doc_id\"].values[0]):\n",
    "        print(\"match\")\n",
    "        print(res)\n",
    "        t += 1\n",
    "    else:\n",
    "        print(\"no match\")\n",
    "        print(res)\n",
    "        #print(m[m[\"image_doc_id\"] == res[\"user_doc_id\"]])\n",
    "        if res[\"user_doc_id\"].values[0] not in img_df[\"documentid\"].values:\n",
    "            n -= 1\n",
    "            print(res[\"user_doc_id\"], \"not in imgs\")\n",
    "            tested -= 1\n",
    "            \n",
    "    print(\"Running Adj Acc:\", ( t / tested))\n",
    "        \n",
    "        \n",
    "        \n",
    "print(\"Total Acc:\", t, \"/\", len(test))\n",
    "print(\"Adj. Acc:\", t, \"/\", n)"
   ]
  },
  {
   "cell_type": "code",
   "execution_count": 79,
   "id": "e5836d49-f092-47e5-a0c9-18232cf19d37",
   "metadata": {},
   "outputs": [],
   "source": [
    "matchs(test.iloc[9]).to_csv(\"Model_Example.csv\")"
   ]
  },
  {
   "cell_type": "code",
   "execution_count": null,
   "id": "6b7cb5dc-0747-42af-b2ad-e5e43c0963ba",
   "metadata": {},
   "outputs": [],
   "source": []
  }
 ],
 "metadata": {
  "kernelspec": {
   "display_name": "Python 3",
   "language": "python",
   "name": "python3"
  },
  "language_info": {
   "codemirror_mode": {
    "name": "ipython",
    "version": 3
   },
   "file_extension": ".py",
   "mimetype": "text/x-python",
   "name": "python",
   "nbconvert_exporter": "python",
   "pygments_lexer": "ipython3",
   "version": "3.8.8"
  }
 },
 "nbformat": 4,
 "nbformat_minor": 5
}
