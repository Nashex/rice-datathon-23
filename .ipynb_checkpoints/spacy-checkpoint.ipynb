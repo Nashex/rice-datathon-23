{
 "cells": [
  {
   "cell_type": "code",
   "execution_count": 35,
   "id": "11e8acf5-fdb8-4733-984a-577b32fccf00",
   "metadata": {},
   "outputs": [],
   "source": [
    "# Convert json file to spaCy format.\n",
    "import plac\n",
    "import logging\n",
    "import argparse\n",
    "import sys\n",
    "import os\n",
    "import json\n",
    "import pickle\n",
    "\n",
    "input_files = [\"./josh_annotated.json\", \"./parkerannotations.json\", \"katie_annotated.json\"]\n",
    "output_file = \"./data/spacy.txt\"\n",
    "\n",
    "try:\n",
    "    training_data = []\n",
    "    lines=[]\n",
    "    for file in input_files:\n",
    "        with open(file, 'r') as f:\n",
    "            lines.extend(json.loads(\n",
    "                f.read()\n",
    "            ))\n",
    "\n",
    "    for data in lines:\n",
    "        text = data['content']\n",
    "        entities = []\n",
    "        for annotation in data['entities']:\n",
    "            labels = annotation[2]\n",
    "            if not isinstance(labels, list):\n",
    "                labels = [labels]\n",
    "\n",
    "            for label in labels:\n",
    "                entities.append((annotation[0], annotation[1] ,label))\n",
    "\n",
    "\n",
    "        training_data.append((text, {\"entities\" : entities}))\n",
    "\n",
    "\n",
    "    with open(output_file, 'wb') as fp:\n",
    "        pickle.dump(training_data, fp)\n",
    "\n",
    "except Exception as e:\n",
    "    logging.exception(\"Unable to process \" + input_file + \"\\n\" + \"error = \" + str(e))\n",
    "\n"
   ]
  },
  {
   "cell_type": "code",
   "execution_count": null,
   "id": "5e071d68-dab5-4d20-9144-3a77754fc765",
   "metadata": {},
   "outputs": [],
   "source": []
  },
  {
   "cell_type": "code",
   "execution_count": null,
   "id": "b0689b3e-ba69-43e0-b4e0-ef47d06d8eda",
   "metadata": {},
   "outputs": [],
   "source": []
  },
  {
   "cell_type": "code",
   "execution_count": null,
   "id": "8256195a-b216-401f-b9d6-b17659551546",
   "metadata": {},
   "outputs": [],
   "source": []
  }
 ],
 "metadata": {
  "kernelspec": {
   "display_name": "Python 3",
   "language": "python",
   "name": "python3"
  },
  "language_info": {
   "codemirror_mode": {
    "name": "ipython",
    "version": 3
   },
   "file_extension": ".py",
   "mimetype": "text/x-python",
   "name": "python",
   "nbconvert_exporter": "python",
   "pygments_lexer": "ipython3",
   "version": "3.8.8"
  }
 },
 "nbformat": 4,
 "nbformat_minor": 5
}
